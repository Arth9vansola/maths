{
 "cells": [
  {
   "cell_type": "code",
   "execution_count": 2,
   "id": "17e03e97",
   "metadata": {},
   "outputs": [],
   "source": [
    "import numpy as np\n",
    "from scipy import stats"
   ]
  },
  {
   "cell_type": "code",
   "execution_count": 3,
   "id": "a53444b1",
   "metadata": {},
   "outputs": [],
   "source": [
    "sample1 = [85, 88, 90, 92, 87, 85, 89, 91, 86, 88]\n",
    "sample2 = [82, 84, 80, 83, 81, 79, 78, 85, 84, 83]"
   ]
  },
  {
   "cell_type": "code",
   "execution_count": 8,
   "id": "39965c58",
   "metadata": {},
   "outputs": [
    {
     "name": "stdout",
     "output_type": "stream",
     "text": [
      "5.829604009507161\n",
      "1.610475598965881e-05\n"
     ]
    }
   ],
   "source": [
    "t_test, p_value = stats.ttest_ind(sample1, sample2, equal_var=False) # for two sample t-test\n",
    "print(t_test)\n",
    "print(p_value)"
   ]
  },
  {
   "cell_type": "code",
   "execution_count": 5,
   "id": "669fe98a",
   "metadata": {},
   "outputs": [
    {
     "name": "stdout",
     "output_type": "stream",
     "text": [
      "Reject the null hypothesis: There is a significant difference between the two sample means.\n"
     ]
    }
   ],
   "source": [
    "alpha = 0.05\n",
    "\n",
    "if p_value < alpha:\n",
    "    print(\"Reject the null hypothesis: There is a significant difference between the two sample means.\")\n",
    "else:\n",
    "    print(\"accept the null hypothesis: There is no significant difference between the two sample means.\")    "
   ]
  }
 ],
 "metadata": {
  "kernelspec": {
   "display_name": "Python 3",
   "language": "python",
   "name": "python3"
  },
  "language_info": {
   "codemirror_mode": {
    "name": "ipython",
    "version": 3
   },
   "file_extension": ".py",
   "mimetype": "text/x-python",
   "name": "python",
   "nbconvert_exporter": "python",
   "pygments_lexer": "ipython3",
   "version": "3.12.4"
  }
 },
 "nbformat": 4,
 "nbformat_minor": 5
}
