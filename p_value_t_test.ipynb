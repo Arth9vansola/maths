{
 "cells": [
  {
   "cell_type": "code",
   "execution_count": 1,
   "id": "27d51147",
   "metadata": {},
   "outputs": [],
   "source": [
    "import numpy as np\n",
    "from scipy import stats"
   ]
  },
  {
   "cell_type": "code",
   "execution_count": 2,
   "id": "2722bb89",
   "metadata": {},
   "outputs": [],
   "source": [
    "sample = [172, 174, 168, 169, 171, 173, 175, 170, 169, 172]\n",
    "population_mean = 170\n",
    "sample_mean = np.mean(sample)\n",
    "sample_std = np.std(sample, ddof=1)\n",
    "n = len(sample)"
   ]
  },
  {
   "cell_type": "code",
   "execution_count": null,
   "id": "9db32553",
   "metadata": {},
   "outputs": [
    {
     "name": "stdout",
     "output_type": "stream",
     "text": [
      "1.7782469350914734\n"
     ]
    }
   ],
   "source": [
    "t_score = (sample_mean - population_mean) / (sample_std / np.sqrt(n))\n",
    "print(t_score)"
   ]
  },
  {
   "cell_type": "code",
   "execution_count": 5,
   "id": "ec208a7a",
   "metadata": {},
   "outputs": [
    {
     "name": "stdout",
     "output_type": "stream",
     "text": [
      "Accept the null hypothesis\n"
     ]
    }
   ],
   "source": [
    "p_value = 2 * (1 - stats.t.cdf(abs(t_score), df=n-1))\n",
    "alpha = 0.05\n",
    "\n",
    "if p_value < alpha:\n",
    "    print(\"Reject the null hypothesis\")\n",
    "else:\n",
    "    print(\"Accept the null hypothesis\")    "
   ]
  }
 ],
 "metadata": {
  "kernelspec": {
   "display_name": "Python 3",
   "language": "python",
   "name": "python3"
  },
  "language_info": {
   "codemirror_mode": {
    "name": "ipython",
    "version": 3
   },
   "file_extension": ".py",
   "mimetype": "text/x-python",
   "name": "python",
   "nbconvert_exporter": "python",
   "pygments_lexer": "ipython3",
   "version": "3.12.4"
  }
 },
 "nbformat": 4,
 "nbformat_minor": 5
}
