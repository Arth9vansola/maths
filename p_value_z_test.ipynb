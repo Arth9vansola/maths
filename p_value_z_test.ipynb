{
 "cells": [
  {
   "cell_type": "code",
   "execution_count": 2,
   "id": "63221fed",
   "metadata": {},
   "outputs": [],
   "source": [
    "import numpy as np\n",
    "from scipy.stats import norm"
   ]
  },
  {
   "cell_type": "code",
   "execution_count": 3,
   "id": "91ca35e2",
   "metadata": {},
   "outputs": [],
   "source": [
    "sample =[172, 174, 168, 169, 171, 173, 175, 170, 169, 172]\n",
    "population_mean = 170\n",
    "population_std = 3\n",
    "sample_mean = np.mean(sample)\n",
    "n = len(sample)"
   ]
  },
  {
   "cell_type": "code",
   "execution_count": 5,
   "id": "1f8c2b37",
   "metadata": {},
   "outputs": [
    {
     "name": "stdout",
     "output_type": "stream",
     "text": [
      "1.3703203194063098\n"
     ]
    }
   ],
   "source": [
    "z_score = (sample_mean - population_mean) / (population_std / np.sqrt(n))\n",
    "print(z_score)"
   ]
  },
  {
   "cell_type": "code",
   "execution_count": 6,
   "id": "09062bd7",
   "metadata": {},
   "outputs": [
    {
     "name": "stdout",
     "output_type": "stream",
     "text": [
      "0.17058693287143756\n"
     ]
    }
   ],
   "source": [
    "p_value = 2 * (1 - norm.cdf(abs(z_score)))\n",
    "print(p_value)"
   ]
  },
  {
   "cell_type": "code",
   "execution_count": 7,
   "id": "8f9a2b93",
   "metadata": {},
   "outputs": [
    {
     "name": "stdout",
     "output_type": "stream",
     "text": [
      "accept the null hypothesis\n"
     ]
    }
   ],
   "source": [
    "alpha = 0.05\n",
    "\n",
    "if p_value < alpha:\n",
    "    print(\"Reject the null hypothesis\")\n",
    "else:\n",
    "    print(\"accept the null hypothesis\")    \n",
    "    "
   ]
  }
 ],
 "metadata": {
  "kernelspec": {
   "display_name": "Python 3",
   "language": "python",
   "name": "python3"
  },
  "language_info": {
   "codemirror_mode": {
    "name": "ipython",
    "version": 3
   },
   "file_extension": ".py",
   "mimetype": "text/x-python",
   "name": "python",
   "nbconvert_exporter": "python",
   "pygments_lexer": "ipython3",
   "version": "3.12.4"
  }
 },
 "nbformat": 4,
 "nbformat_minor": 5
}
