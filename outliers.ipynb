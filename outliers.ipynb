{
 "cells": [
  {
   "cell_type": "code",
   "execution_count": 14,
   "id": "d41b43dd",
   "metadata": {},
   "outputs": [],
   "source": [
    "import numpy as np\n",
    "import seaborn as sns\n",
    "import matplotlib.pyplot as plt"
   ]
  },
  {
   "cell_type": "code",
   "execution_count": null,
   "id": "aa3da9c2",
   "metadata": {},
   "outputs": [
    {
     "name": "stdout",
     "output_type": "stream",
     "text": [
      "[  2   4   7  10  15  20  25 205]\n"
     ]
    }
   ],
   "source": [
    "arr = np.array([2,4,7,10,15,20,25,205])"
   ]
  },
  {
   "cell_type": "code",
   "execution_count": 4,
   "id": "0344c6d7",
   "metadata": {},
   "outputs": [
    {
     "name": "stdout",
     "output_type": "stream",
     "text": [
      "Q1: 6.25\n",
      "Q3: 21.25\n"
     ]
    }
   ],
   "source": [
    "q1 = np.percentile(arr, 25)\n",
    "q3 = np.percentile(arr, 75)\n",
    "print(\"Q1:\", q1)\n",
    "print(\"Q3:\", q3)"
   ]
  },
  {
   "cell_type": "code",
   "execution_count": 5,
   "id": "39c08cd2",
   "metadata": {},
   "outputs": [
    {
     "name": "stdout",
     "output_type": "stream",
     "text": [
      "IQR: 15.0\n"
     ]
    }
   ],
   "source": [
    "iqr = q3 - q1\n",
    "print(\"IQR:\", iqr)"
   ]
  },
  {
   "cell_type": "code",
   "execution_count": 6,
   "id": "0083088c",
   "metadata": {},
   "outputs": [
    {
     "name": "stdout",
     "output_type": "stream",
     "text": [
      "Upper Fence: 43.75\n",
      "Lower Fence: -16.25\n"
     ]
    }
   ],
   "source": [
    "uf = q3 + (1.5 * iqr)\n",
    "lf = q1 - (1.5 * iqr)\n",
    "print(\"Upper Fence:\", uf) \n",
    "print(\"Lower Fence:\", lf)"
   ]
  },
  {
   "cell_type": "code",
   "execution_count": 9,
   "id": "9cbd2884",
   "metadata": {},
   "outputs": [
    {
     "name": "stdout",
     "output_type": "stream",
     "text": [
      "Filtered Array: [ 2  4  7 10 15 20 25]\n"
     ]
    }
   ],
   "source": [
    "l = []\n",
    "for i in arr:\n",
    "    if i >= lf and i <= uf:\n",
    "        l.append(i)\n",
    "arr2= np.array(l)\n",
    "print(\"Filtered Array:\", arr2)"
   ]
  },
  {
   "cell_type": "code",
   "execution_count": 10,
   "id": "e6b322c4",
   "metadata": {},
   "outputs": [
    {
     "name": "stdout",
     "output_type": "stream",
     "text": [
      "Min: 2\n",
      "Q1: 5.5\n",
      "Q2 (Median): 10.0\n",
      "Q3: 17.5\n",
      "Max: 25\n"
     ]
    }
   ],
   "source": [
    "min = np.min(arr2)\n",
    "q1 = np.percentile(arr2, 25)\n",
    "q2 = np.median(arr2)\n",
    "q3 = np.percentile(arr2, 75)\n",
    "max = np.max(arr2)\n",
    "print(\"Min:\", min)\n",
    "print(\"Q1:\", q1)\n",
    "print(\"Q2 (Median):\", q2)\n",
    "print(\"Q3:\", q3)\n",
    "print(\"Max:\", max)"
   ]
  },
  {
   "cell_type": "code",
   "execution_count": 15,
   "id": "597cc179",
   "metadata": {},
   "outputs": [
    {
     "data": {
      "image/png": "[encoded data removed]",
      "text/plain": [
       "<Figure size 640x480 with 1 Axes>"
      ]
     },
     "metadata": {},
     "output_type": "display_data"
    }
   ],
   "source": [
    "\n",
    "sns.boxplot(x=arr2)\n",
    "plt.show()"
   ]
  }
 ],
 "metadata": {
  "kernelspec": {
   "display_name": "Python 3",
   "language": "python",
   "name": "python3"
  },
  "language_info": {
   "codemirror_mode": {
    "name": "ipython",
    "version": 3
   },
   "file_extension": ".py",
   "mimetype": "text/x-python",
   "name": "python",
   "nbconvert_exporter": "python",
   "pygments_lexer": "ipython3",
   "version": "3.12.4"
  }
 },
 "nbformat": 4,
 "nbformat_minor": 5
}
